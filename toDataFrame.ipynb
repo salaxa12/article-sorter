{
 "cells": [
  {
   "cell_type": "code",
   "execution_count": 53,
   "metadata": {},
   "outputs": [],
   "source": [
    "import pandas as pd\n",
    "import os\n",
    "from collections import Counter"
   ]
  },
  {
   "cell_type": "code",
   "execution_count": 82,
   "metadata": {},
   "outputs": [
    {
     "ename": "OSError",
     "evalue": "[WinError 123] The filename, directory name, or volume label syntax is incorrect: 'programing\\\\Github Repos\\x07rticle-sorter'",
     "output_type": "error",
     "traceback": [
      "\u001b[1;31m---------------------------------------------------------------------------\u001b[0m",
      "\u001b[1;31mOSError\u001b[0m                                   Traceback (most recent call last)",
      "Cell \u001b[1;32mIn [82], line 1\u001b[0m\n\u001b[1;32m----> 1\u001b[0m os\u001b[39m.\u001b[39;49mchdir(\u001b[39m\"\u001b[39;49m\u001b[39mprograming\u001b[39;49m\u001b[39m\\\u001b[39;49m\u001b[39mGithub Repos\u001b[39;49m\u001b[39m\\a\u001b[39;49;00m\u001b[39mrticle-sorter\u001b[39;49m\u001b[39m\"\u001b[39;49m)\n\u001b[0;32m      2\u001b[0m os\u001b[39m.\u001b[39mchdir(\u001b[39m\"\u001b[39m\u001b[39marticles/technology/training\u001b[39m\u001b[39m\"\u001b[39m)\n\u001b[0;32m      4\u001b[0m articles \u001b[39m=\u001b[39m []\n",
      "\u001b[1;31mOSError\u001b[0m: [WinError 123] The filename, directory name, or volume label syntax is incorrect: 'programing\\\\Github Repos\\x07rticle-sorter'"
     ]
    }
   ],
   "source": [
    "os.chdir(\"programing\\Github Repos\\article-sorter\")\n",
    "os.chdir(\"articles/technology/training\")\n",
    "\n",
    "articles = []\n",
    "genres = []\n",
    "item = 1\n",
    "\n",
    "\n",
    "while(item <= 100):\n",
    "    file2read = open(\"TrTechnologyArticle\" + str(item) +\n",
    "                     \".txt\", 'r').read().replace(\"\\n\", \"\")\n",
    "    articles.append(file2read)\n",
    "    genres.append(\"technology\")\n",
    "    item += 1\n",
    "\n",
    "item = 1\n",
    "\n",
    "os.chdir(\"../../sports/training\")\n",
    "\n",
    "while(item <= 100):\n",
    "    file2read = open(\"TrSportsArticle\" + str(item) +\n",
    "                     \".txt\", 'r').read().replace(\"\\n\", \"\")\n",
    "    articles.append(file2read)\n",
    "    genres.append(\"Sports\")\n",
    "    item += 1\n",
    "\n",
    "\n",
    "trainingData = {'article':  articles,\n",
    "                'genre': genres\n",
    "                }\n",
    "\n",
    "print(articles[2])\n",
    "\n",
    "os.chdir(\"../../../\")\n",
    "\n",
    "\n",
    "trainingData = pd.DataFrame(trainingData)\n",
    "print(trainingData)"
   ]
  },
  {
   "cell_type": "code",
   "execution_count": 83,
   "metadata": {},
   "outputs": [
    {
     "ename": "OSError",
     "evalue": "[WinError 123] The filename, directory name, or volume label syntax is incorrect: 'programing\\\\Github Repos\\x07rticle-sorter'",
     "output_type": "error",
     "traceback": [
      "\u001b[1;31m---------------------------------------------------------------------------\u001b[0m",
      "\u001b[1;31mOSError\u001b[0m                                   Traceback (most recent call last)",
      "Cell \u001b[1;32mIn [83], line 1\u001b[0m\n\u001b[1;32m----> 1\u001b[0m os\u001b[39m.\u001b[39;49mchdir(\u001b[39m\"\u001b[39;49m\u001b[39mprograming\u001b[39;49m\u001b[39m\\\u001b[39;49m\u001b[39mGithub Repos\u001b[39;49m\u001b[39m\\a\u001b[39;49;00m\u001b[39mrticle-sorter\u001b[39;49m\u001b[39m\"\u001b[39;49m)\n\u001b[0;32m      2\u001b[0m temp \u001b[39m=\u001b[39m os\u001b[39m.\u001b[39mgetcwd()\n\u001b[0;32m      3\u001b[0m \u001b[39mprint\u001b[39m(temp)\n",
      "\u001b[1;31mOSError\u001b[0m: [WinError 123] The filename, directory name, or volume label syntax is incorrect: 'programing\\\\Github Repos\\x07rticle-sorter'"
     ]
    }
   ],
   "source": [
    "\n",
    "os.chdir('programing\\Github Repos\\article-sorter')\n",
    "temp = os.getcwd()\n",
    "print(temp)\n",
    "os.chdir(\"articles/technology/testing\")\n",
    "temp = os.getcwd()\n",
    "\n",
    "\n",
    "articles = []\n",
    "genres = []\n",
    "item = 101\n",
    "\n",
    "\n",
    "os.getcwd\n",
    "\n",
    "\n",
    "while(item >= 101 and item <=200):\n",
    "    file2read = open(\"TeTechnologyArticle\" + str(item) +\n",
    "                     \".txt\", 'r').read().replace(\"\\n\", \"\")\n",
    "    articles.append(file2read)\n",
    "    genres.append(\"technology\")\n",
    "    item += 1\n",
    "\n",
    "item = 101\n",
    "\n",
    "os.chdir(\"../../sports/testing\")\n",
    "\n",
    "while(item >= 101 and item <=200):\n",
    "    file2read = open(\"TeSportsArticle\" + str(item) +\n",
    "                     \".txt\", 'r').read().replace(\"\\n\", \"\")\n",
    "    articles.append(file2read)\n",
    "    genres.append(\"Sports\")\n",
    "    item += 1\n",
    "\n",
    "\n",
    "testingData = {'article':  articles,\n",
    "                'genre': genres\n",
    "                }\n",
    "\n",
    "print(articles[2])\n",
    "\n",
    "os.chdir(\"../../../\")\n",
    "\n",
    "\n",
    "testingData = pd.DataFrame(testingData)\n",
    "print(testingData)"
   ]
  }
 ],
 "metadata": {
  "kernelspec": {
   "display_name": "Python 3.10.4 64-bit",
   "language": "python",
   "name": "python3"
  },
  "language_info": {
   "codemirror_mode": {
    "name": "ipython",
    "version": 3
   },
   "file_extension": ".py",
   "mimetype": "text/x-python",
   "name": "python",
   "nbconvert_exporter": "python",
   "pygments_lexer": "ipython3",
   "version": "3.10.4"
  },
  "orig_nbformat": 4,
  "vscode": {
   "interpreter": {
    "hash": "cb4d557434260ebf075e28dd60749004257cbe2841be8fafa16b5a0ada42e623"
   }
  }
 },
 "nbformat": 4,
 "nbformat_minor": 2
}
