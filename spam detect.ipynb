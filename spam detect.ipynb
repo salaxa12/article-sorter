{
 "cells": [
  {
   "cell_type": "code",
   "execution_count": 1,
   "metadata": {},
   "outputs": [],
   "source": [
    "import pandas as pd\n",
    "from collections import Counter"
   ]
  },
  {
   "cell_type": "code",
   "execution_count": 2,
   "metadata": {},
   "outputs": [
    {
     "data": {
      "text/html": [
       "<div>\n",
       "<style scoped>\n",
       "    .dataframe tbody tr th:only-of-type {\n",
       "        vertical-align: middle;\n",
       "    }\n",
       "\n",
       "    .dataframe tbody tr th {\n",
       "        vertical-align: top;\n",
       "    }\n",
       "\n",
       "    .dataframe thead th {\n",
       "        text-align: right;\n",
       "    }\n",
       "</style>\n",
       "<table border=\"1\" class=\"dataframe\">\n",
       "  <thead>\n",
       "    <tr style=\"text-align: right;\">\n",
       "      <th></th>\n",
       "      <th>email</th>\n",
       "      <th>is_spam</th>\n",
       "    </tr>\n",
       "  </thead>\n",
       "  <tbody>\n",
       "    <tr>\n",
       "      <th>0</th>\n",
       "      <td>Click Win Prize</td>\n",
       "      <td>yes</td>\n",
       "    </tr>\n",
       "    <tr>\n",
       "      <th>1</th>\n",
       "      <td>Click meeting setup meeting</td>\n",
       "      <td>no</td>\n",
       "    </tr>\n",
       "    <tr>\n",
       "      <th>2</th>\n",
       "      <td>Prize free prize</td>\n",
       "      <td>yes</td>\n",
       "    </tr>\n",
       "    <tr>\n",
       "      <th>3</th>\n",
       "      <td>Click prize free</td>\n",
       "      <td>yes</td>\n",
       "    </tr>\n",
       "  </tbody>\n",
       "</table>\n",
       "</div>"
      ],
      "text/plain": [
       "                         email is_spam\n",
       "0              Click Win Prize     yes\n",
       "1  Click meeting setup meeting      no\n",
       "2             Prize free prize     yes\n",
       "3             Click prize free     yes"
      ]
     },
     "execution_count": 2,
     "metadata": {},
     "output_type": "execute_result"
    }
   ],
   "source": [
    "data = {'email':  ['Click Win Prize', 'Click meeting setup meeting','Prize free prize','Click prize free'],\n",
    "        'is_spam': ['yes', 'no','yes','yes']\n",
    "        }\n",
    "data = pd.DataFrame(data)\n",
    "data"
   ]
  },
  {
   "cell_type": "code",
   "execution_count": 3,
   "metadata": {},
   "outputs": [
    {
     "data": {
      "text/html": [
       "<div>\n",
       "<style scoped>\n",
       "    .dataframe tbody tr th:only-of-type {\n",
       "        vertical-align: middle;\n",
       "    }\n",
       "\n",
       "    .dataframe tbody tr th {\n",
       "        vertical-align: top;\n",
       "    }\n",
       "\n",
       "    .dataframe thead th {\n",
       "        text-align: right;\n",
       "    }\n",
       "</style>\n",
       "<table border=\"1\" class=\"dataframe\">\n",
       "  <thead>\n",
       "    <tr style=\"text-align: right;\">\n",
       "      <th></th>\n",
       "      <th>email</th>\n",
       "      <th>is_spam</th>\n",
       "    </tr>\n",
       "  </thead>\n",
       "  <tbody>\n",
       "    <tr>\n",
       "      <th>0</th>\n",
       "      <td>click win prize</td>\n",
       "      <td>yes</td>\n",
       "    </tr>\n",
       "    <tr>\n",
       "      <th>1</th>\n",
       "      <td>click meeting setup meeting</td>\n",
       "      <td>no</td>\n",
       "    </tr>\n",
       "    <tr>\n",
       "      <th>2</th>\n",
       "      <td>prize free prize</td>\n",
       "      <td>yes</td>\n",
       "    </tr>\n",
       "    <tr>\n",
       "      <th>3</th>\n",
       "      <td>click prize free</td>\n",
       "      <td>yes</td>\n",
       "    </tr>\n",
       "  </tbody>\n",
       "</table>\n",
       "</div>"
      ],
      "text/plain": [
       "                         email is_spam\n",
       "0              click win prize     yes\n",
       "1  click meeting setup meeting      no\n",
       "2             prize free prize     yes\n",
       "3             click prize free     yes"
      ]
     },
     "execution_count": 3,
     "metadata": {},
     "output_type": "execute_result"
    }
   ],
   "source": [
    "# make email values lower case\n",
    "data[\"email\"] = data[\"email\"].apply(lambda str : str.lower()) \n",
    "data"
   ]
  },
  {
   "cell_type": "code",
   "execution_count": 4,
   "metadata": {},
   "outputs": [
    {
     "name": "stdout",
     "output_type": "stream",
     "text": [
      "0.75\n",
      "0.25\n"
     ]
    }
   ],
   "source": [
    "#get probability of spam and not spam\n",
    "sum_s = 0\n",
    "sum_ns = 0\n",
    "for i in data[\"is_spam\"]:\n",
    "    if i == \"yes\":\n",
    "        sum_s += 1\n",
    "    else:\n",
    "        sum_ns += 1\n",
    "        \n",
    "prob_s = sum_s/len(data)\n",
    "prob_ns = sum_ns/len(data)\n",
    "\n",
    "print(prob_s)\n",
    "print(prob_ns)"
   ]
  },
  {
   "cell_type": "code",
   "execution_count": 12,
   "metadata": {},
   "outputs": [
    {
     "data": {
      "text/html": [
       "<div>\n",
       "<style scoped>\n",
       "    .dataframe tbody tr th:only-of-type {\n",
       "        vertical-align: middle;\n",
       "    }\n",
       "\n",
       "    .dataframe tbody tr th {\n",
       "        vertical-align: top;\n",
       "    }\n",
       "\n",
       "    .dataframe thead th {\n",
       "        text-align: right;\n",
       "    }\n",
       "</style>\n",
       "<table border=\"1\" class=\"dataframe\">\n",
       "  <thead>\n",
       "    <tr style=\"text-align: right;\">\n",
       "      <th></th>\n",
       "      <th>email</th>\n",
       "      <th>is_spam</th>\n",
       "      <th>bow</th>\n",
       "    </tr>\n",
       "  </thead>\n",
       "  <tbody>\n",
       "    <tr>\n",
       "      <th>0</th>\n",
       "      <td>click win prize</td>\n",
       "      <td>yes</td>\n",
       "      <td>{'click': 1, 'win': 1, 'prize': 1}</td>\n",
       "    </tr>\n",
       "    <tr>\n",
       "      <th>1</th>\n",
       "      <td>click meeting setup meeting</td>\n",
       "      <td>no</td>\n",
       "      <td>{'click': 1, 'meeting': 2, 'setup': 1}</td>\n",
       "    </tr>\n",
       "    <tr>\n",
       "      <th>2</th>\n",
       "      <td>prize free prize</td>\n",
       "      <td>yes</td>\n",
       "      <td>{'prize': 2, 'free': 1}</td>\n",
       "    </tr>\n",
       "    <tr>\n",
       "      <th>3</th>\n",
       "      <td>click prize free</td>\n",
       "      <td>yes</td>\n",
       "      <td>{'click': 1, 'prize': 1, 'free': 1}</td>\n",
       "    </tr>\n",
       "  </tbody>\n",
       "</table>\n",
       "</div>"
      ],
      "text/plain": [
       "                         email is_spam                                     bow\n",
       "0              click win prize     yes      {'click': 1, 'win': 1, 'prize': 1}\n",
       "1  click meeting setup meeting      no  {'click': 1, 'meeting': 2, 'setup': 1}\n",
       "2             prize free prize     yes                 {'prize': 2, 'free': 1}\n",
       "3             click prize free     yes     {'click': 1, 'prize': 1, 'free': 1}"
      ]
     },
     "execution_count": 12,
     "metadata": {},
     "output_type": "execute_result"
    }
   ],
   "source": [
    "data[\"bow\"] = data[\"email\"].str.split().apply(Counter) # split string into the bag of words an then count them\n",
    "data"
   ]
  },
  {
   "cell_type": "code",
   "execution_count": 38,
   "metadata": {},
   "outputs": [
    {
     "name": "stdout",
     "output_type": "stream",
     "text": [
      "{'click': 2, 'win': 1, 'prize': 4, 'free': 2}\n",
      "{'click': 1, 'meeting': 2, 'setup': 1}\n"
     ]
    }
   ],
   "source": [
    "sum_bow_s = {}\n",
    "sum_bow_ns = {}\n",
    "i=0\n",
    "\n",
    "for bow in data[\"bow\"]: #value of bag of word in each email\n",
    "    for key in bow: #value of word in each bag of word\n",
    "        if data[\"is_spam\"][i] == \"yes\": #in case of spam\n",
    "            if key in sum_bow_s: #if the word exists in sum of bows\n",
    "                # print(\"sum of bow in if: \", sum_bow_s)\n",
    "                sum_bow_s[key] += bow[key]\n",
    "                # print(\"sum of bow in if: \", sum_bow_s)\n",
    "\n",
    "            else:\n",
    "                # print(\"key in else: \",key)\n",
    "                # print('bow of key', bow[key])\n",
    "                sum_bow_s[key] = bow[key]\n",
    "                # print(\"sum of bow in else: \", sum_bow_s)\n",
    "        else:\n",
    "            if key in sum_bow_ns:\n",
    "                sum_bow_ns[key] +=bow[key]\n",
    "            else:\n",
    "                sum_bow_ns[key] = bow[key]\n",
    "    i += 1\n",
    "\n",
    "\n",
    "print(sum_bow_s)\n",
    "print(sum_bow_ns)"
   ]
  },
  {
   "cell_type": "code",
   "execution_count": 7,
   "metadata": {},
   "outputs": [
    {
     "name": "stdout",
     "output_type": "stream",
     "text": [
      "9\n",
      "4\n"
     ]
    }
   ],
   "source": [
    "#calculates total number of words in each dictionary\n",
    "term_occurences_s = 0\n",
    "term_occurences_ns = 0\n",
    "for key in sum_bow_s:\n",
    "    term_occurences_s += sum_bow_s[key]\n",
    "for key in sum_bow_ns:    \n",
    "    term_occurences_ns += sum_bow_ns[key]\n",
    "print(term_occurences_s)\n",
    "print(term_occurences_ns)"
   ]
  },
  {
   "cell_type": "code",
   "execution_count": 8,
   "metadata": {},
   "outputs": [
    {
     "data": {
      "text/plain": [
       "6"
      ]
     },
     "execution_count": 8,
     "metadata": {},
     "output_type": "execute_result"
    }
   ],
   "source": [
    "#calculate number of unique words in total\n",
    "temp = []\n",
    "unique_term = 0\n",
    "for bow in data[\"bow\"]:\n",
    "    for key in bow:\n",
    "        if key not in temp:\n",
    "            unique_term += 1\n",
    "            temp.append(key)\n",
    "# it goes to every single word in BoW and if it is not stored in the array store it and increase unique_term number by 1\n",
    "unique_term"
   ]
  },
  {
   "cell_type": "code",
   "execution_count": 39,
   "metadata": {},
   "outputs": [
    {
     "name": "stdout",
     "output_type": "stream",
     "text": [
      "13\n"
     ]
    },
    {
     "data": {
      "text/plain": [
       "{'click': 0.23076923076923078,\n",
       " 'win': 0.07692307692307693,\n",
       " 'prize': 0.3076923076923077,\n",
       " 'meeting': 0.15384615384615385,\n",
       " 'setup': 0.07692307692307693,\n",
       " 'free': 0.15384615384615385}"
      ]
     },
     "execution_count": 39,
     "metadata": {},
     "output_type": "execute_result"
    }
   ],
   "source": [
    "sum_bow = {} \n",
    "term_occurences = 0 #number of words occured in total in spam and not spam\n",
    "for bow in data[\"bow\"]:\n",
    "    for key in bow:\n",
    "        if key in sum_bow:\n",
    "            sum_bow[key] += bow[key]\n",
    "        else:\n",
    "            sum_bow[key] = bow[key]\n",
    "        term_occurences += bow[key]\n",
    "\n",
    "\n",
    "prob_bow = {}\n",
    "for key in sum_bow:\n",
    "    prob_bow[key] = sum_bow[key]/term_occurences #probability of word in general for spam and not spam\n",
    "\n",
    "prob_bow  "
   ]
  },
  {
   "cell_type": "code",
   "execution_count": 65,
   "metadata": {},
   "outputs": [
    {
     "name": "stdout",
     "output_type": "stream",
     "text": [
      "0.4760166666666666\n",
      "0.53551875\n"
     ]
    }
   ],
   "source": [
    "def split(words): #split string into array of words\n",
    "    return words.split()\n",
    "\n",
    "\n",
    "def lower(words): #lowercase the letters in the string\n",
    "    return words.lower()\n",
    "\n",
    "def probSpam(email): #calculate the probability of spam of the string\n",
    "    email = split(lower(email))\n",
    "    likelihood = 1 \n",
    "    evidence = 1\n",
    "    for term in email:\n",
    "        if term in prob_bow: #check if word has probability value so that it won't throw error for unrecognised words\n",
    "            if term in sum_bow_s:\n",
    "                likelihood *= (sum_bow_s[term]+1)/(term_occurences_s+unique_term) #naive beyes formula \n",
    "            else:\n",
    "                likelihood *= 1/(term_occurences_s+unique_term)\n",
    "\n",
    "            evidence *= prob_bow[term]\n",
    "\n",
    "    likelihood_prior = likelihood*prob_s\n",
    "    posterior = likelihood_prior/evidence\n",
    "    return posterior\n",
    "\n",
    "def probNotSpam(email): #calculate the probability of not spam of the string\n",
    "    email = split(lower(email))\n",
    "    likelihood = 1\n",
    "    evidence = 1\n",
    "    for term in email:\n",
    "        if term in prob_bow:\n",
    "            if term in sum_bow_ns:\n",
    "                likelihood *= (sum_bow_ns[term]+1)/(term_occurences_ns+unique_term)\n",
    "            else:\n",
    "                likelihood *= 1/(term_occurences_ns+unique_term)\n",
    "                \n",
    "            evidence *= prob_bow[term]\n",
    "\n",
    "    likelihood_prior = likelihood*prob_ns\n",
    "    posterior = likelihood_prior/evidence\n",
    "    return posterior\n",
    "\n",
    "\n",
    "print(probSpam(\"Free setup meeting free game awgawg5 dfgw4 aw 34324 \"))\n",
    "print(probNotSpam(\"Free setup meeting free 325rt23 rtrdfgWE WER WER \"))"
   ]
  },
  {
   "cell_type": "code",
   "execution_count": null,
   "metadata": {},
   "outputs": [],
   "source": []
  }
 ],
 "metadata": {
  "kernelspec": {
   "display_name": "Python 3.10.4 64-bit",
   "language": "python",
   "name": "python3"
  },
  "language_info": {
   "codemirror_mode": {
    "name": "ipython",
    "version": 3
   },
   "file_extension": ".py",
   "mimetype": "text/x-python",
   "name": "python",
   "nbconvert_exporter": "python",
   "pygments_lexer": "ipython3",
   "version": "3.10.4"
  },
  "vscode": {
   "interpreter": {
    "hash": "cb4d557434260ebf075e28dd60749004257cbe2841be8fafa16b5a0ada42e623"
   }
  }
 },
 "nbformat": 4,
 "nbformat_minor": 2
}
